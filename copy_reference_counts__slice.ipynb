{
  "nbformat": 4,
  "nbformat_minor": 0,
  "metadata": {
    "colab": {
      "provenance": []
    },
    "kernelspec": {
      "name": "python3",
      "display_name": "Python 3"
    },
    "language_info": {
      "name": "python"
    }
  },
  "cells": [
    {
      "cell_type": "markdown",
      "source": [
        "List l1 is created and l2 is also created and l2 is assigned l1. So both l1 and l2 are pointing to same \"[1,2,3]\" reference in memory"
      ],
      "metadata": {
        "id": "2drfKS3G15Vg"
      }
    },
    {
      "cell_type": "code",
      "source": [
        "l1=[1,2,3]\n",
        "l2=l1\n",
        "print('l1:',l1)\n",
        "print('l2:',l2)"
      ],
      "metadata": {
        "colab": {
          "base_uri": "https://localhost:8080/"
        },
        "id": "4XcqxzVNKLWE",
        "outputId": "8998f526-073e-4436-a281-2e0d85f5152a"
      },
      "execution_count": null,
      "outputs": [
        {
          "output_type": "stream",
          "name": "stdout",
          "text": [
            "l1: [1, 2, 3]\n",
            "l2: [1, 2, 3]\n"
          ]
        }
      ]
    },
    {
      "cell_type": "markdown",
      "source": [
        "Now elemet at 0th index of l1 is changed, so element at 0th ind of l2 will also change becuase both are pointing to same reference"
      ],
      "metadata": {
        "id": "Si4Qv4nD0yC7"
      }
    },
    {
      "cell_type": "code",
      "source": [
        "l1[0]=50\n",
        "print('l1:',l1)\n",
        "print('l2:',l2)"
      ],
      "metadata": {
        "colab": {
          "base_uri": "https://localhost:8080/"
        },
        "id": "wSserMcF122R",
        "outputId": "66468158-7d77-4262-f552-afb4007804e2"
      },
      "execution_count": null,
      "outputs": [
        {
          "output_type": "stream",
          "name": "stdout",
          "text": [
            "l1: [50, 2, 3]\n",
            "l2: [50, 2, 3]\n"
          ]
        }
      ]
    },
    {
      "cell_type": "markdown",
      "source": [
        "now we take a list p1 and similarly p2 is also created and it is assigned p1. But we assign p2 a new \"[1,2,3]\" and p2 is pointing to a diiferent \"[1,2,3]\" and not the \"[1,2,3]\" to which p1 is pointing to"
      ],
      "metadata": {
        "id": "YOnx0WiB2060"
      }
    },
    {
      "cell_type": "code",
      "source": [
        "p1=[1,2,3]\n",
        "p2=p1\n",
        "p2=[1,2,3]\n",
        "print('p1:',p1)\n",
        "print('p2:',p2)"
      ],
      "metadata": {
        "colab": {
          "base_uri": "https://localhost:8080/"
        },
        "id": "EJb31Vf42ybc",
        "outputId": "56cd6995-58cc-49f7-e07a-354f6417b0bc"
      },
      "execution_count": null,
      "outputs": [
        {
          "output_type": "stream",
          "name": "stdout",
          "text": [
            "p1: [1, 2, 3]\n",
            "p2: [1, 2, 3]\n"
          ]
        }
      ]
    },
    {
      "cell_type": "markdown",
      "source": [
        "now we will change 0th ind of p1 but we will notice that 0th index of p2 wont change coz both are pointing to different refernces"
      ],
      "metadata": {
        "id": "TmTPWtpe3oz-"
      }
    },
    {
      "cell_type": "code",
      "source": [
        "p1[0]=100\n",
        "print('p1:',p1)\n",
        "print('p2:',p2)"
      ],
      "metadata": {
        "colab": {
          "base_uri": "https://localhost:8080/"
        },
        "id": "Nq5LAQ3F324z",
        "outputId": "cedccc63-c55c-49ba-857e-07c6a372e4d8"
      },
      "execution_count": null,
      "outputs": [
        {
          "output_type": "stream",
          "name": "stdout",
          "text": [
            "p1: [100, 2, 3]\n",
            "p2: [1, 2, 3]\n"
          ]
        }
      ]
    },
    {
      "cell_type": "markdown",
      "source": [
        "similary we create list h1 and we assign h2 \"sliced\" h1, we have given h2 a copy h1. we arent pointing to same reference. We created a copy of the reference and h2 is pointing to that refernce"
      ],
      "metadata": {
        "id": "EiwNzl659iJI"
      }
    },
    {
      "cell_type": "code",
      "source": [
        "h1=[1,2,3]\n",
        "h2=h1[:]\n",
        "print('h1:',h1)\n",
        "print('h2:',h2)"
      ],
      "metadata": {
        "colab": {
          "base_uri": "https://localhost:8080/"
        },
        "id": "R-TXIIr0-Ab2",
        "outputId": "98191c74-6268-4ef9-94d5-f28ea42a5f36"
      },
      "execution_count": null,
      "outputs": [
        {
          "output_type": "stream",
          "name": "stdout",
          "text": [
            "h1: [1, 2, 3]\n",
            "h2: [1, 2, 3]\n"
          ]
        }
      ]
    },
    {
      "cell_type": "code",
      "source": [
        "h1[0]=50\n",
        "print('h1:',h1)\n",
        "print('h2:',h2)"
      ],
      "metadata": {
        "colab": {
          "base_uri": "https://localhost:8080/"
        },
        "id": "JzpULJ5K-EZ9",
        "outputId": "a91d88a8-ff2c-414c-d3a2-59cc0f1a7d7e"
      },
      "execution_count": null,
      "outputs": [
        {
          "output_type": "stream",
          "name": "stdout",
          "text": [
            "h1: [50, 2, 3]\n",
            "h2: [1, 2, 3]\n"
          ]
        }
      ]
    },
    {
      "cell_type": "markdown",
      "source": [
        "we can use copy import alternatively as well to assign a copy"
      ],
      "metadata": {
        "id": "2_2IQYa9-Xbp"
      }
    },
    {
      "cell_type": "code",
      "source": [
        "import copy\n",
        "a1=[1,2,3]\n",
        "a2=copy.copy(a1)\n",
        "print('a1:',a1)\n",
        "print('a2:',a2)"
      ],
      "metadata": {
        "colab": {
          "base_uri": "https://localhost:8080/"
        },
        "id": "haJEEIO6-JDH",
        "outputId": "b6016276-2bd3-41eb-d2ed-cd6c769bc380"
      },
      "execution_count": null,
      "outputs": [
        {
          "output_type": "stream",
          "name": "stdout",
          "text": [
            "a1: [1, 2, 3]\n",
            "a2: [1, 2, 3]\n"
          ]
        }
      ]
    },
    {
      "cell_type": "markdown",
      "source": [
        "\"==\" checks if the value is same or not.\n",
        "\"is\" checks memory refernce, if they pointing to same object or not"
      ],
      "metadata": {
        "id": "JM-MCc2m_DYU"
      }
    },
    {
      "cell_type": "code",
      "source": [
        "n=[1,2,3]\n",
        "m=n\n",
        "print(n==m)\n",
        "print(n is m)"
      ],
      "metadata": {
        "colab": {
          "base_uri": "https://localhost:8080/"
        },
        "id": "XmWoGHHg-qQk",
        "outputId": "15495f77-0f4d-4634-afc6-0390d3ffd22f"
      },
      "execution_count": null,
      "outputs": [
        {
          "output_type": "stream",
          "name": "stdout",
          "text": [
            "True\n",
            "True\n"
          ]
        }
      ]
    },
    {
      "cell_type": "code",
      "source": [
        "n=[1,2,3]\n",
        "m=[1,2,3]\n",
        "print(n==m)\n",
        "print(n is m)"
      ],
      "metadata": {
        "colab": {
          "base_uri": "https://localhost:8080/"
        },
        "outputId": "bc9f5a73-533d-4a89-f836-385ce99d04f4",
        "id": "xbgv4kL9_nTR"
      },
      "execution_count": null,
      "outputs": [
        {
          "output_type": "stream",
          "name": "stdout",
          "text": [
            "True\n",
            "False\n"
          ]
        }
      ]
    },
    {
      "cell_type": "code",
      "source": [],
      "metadata": {
        "id": "S_2AZKVw_vQT"
      },
      "execution_count": null,
      "outputs": []
    }
  ]
}